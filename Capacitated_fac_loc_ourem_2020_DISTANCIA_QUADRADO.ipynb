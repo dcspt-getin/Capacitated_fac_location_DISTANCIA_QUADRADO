{
 "cells": [
  {
   "cell_type": "code",
   "execution_count": 1,
   "metadata": {},
   "outputs": [],
   "source": [
    "from gurobipy import *\n",
    "import math\n",
    "import random\n",
    "import pandas as pd\n",
    "import geopandas as gpd\n",
    "import matplotlib.pyplot as plt\n",
    "from shapely.geometry import Point, LineString\n",
    "from shapely.geometry import Polygon\n",
    "from statsmodels.stats.weightstats import DescrStatsW"
   ]
  },
  {
   "cell_type": "code",
   "execution_count": 2,
   "metadata": {},
   "outputs": [],
   "source": [
    "#carrega alunos das subsecções de Ourém e matriz de distâncias\n",
    "df_alunos_subseccao = pd.read_csv('./df_alunos_subseccao_2020.csv', dtype={'Unnamed: 0':str})\n",
    "df_alunos_subseccao.index= df_alunos_subseccao['Unnamed: 0']\n",
    "distanceMatrix = pd.read_csv('./00_Base_de_dados/Distancias/distancematrix-1421.csv', dtype={'to':str, 'origin':str})\n",
    "distanceMatrix['Freg_origin'] = distanceMatrix.loc[:,'origin'].astype(str).str[0:6]\n",
    "distanceMatrix['Freg_destino'] = distanceMatrix.loc[:,'to'].astype(str).str[0:6]\n",
    "# df['new_col'] = df['First'].astype(str).str[0]\n",
    "distanceMatrix.real_distance = round(distanceMatrix.real_distance/1000, 3)"
   ]
  },
  {
   "cell_type": "code",
   "execution_count": 3,
   "metadata": {},
   "outputs": [],
   "source": [
    "#transforma distâncias em custos\n",
    "distanceMatrix['custo'] = round((distanceMatrix.real_distance**2)*2*0.36*180*10,0)\n",
    "#elimina subsecções sem alunos (não podem ser os residuais porque alguns têm alunos)\n",
    "c_alunos = df_alunos_subseccao[df_alunos_subseccao['1_CEB_Proj_2020']>0].index\n",
    "distanceMatrix_sres = distanceMatrix[distanceMatrix.to.isin(c_alunos)&distanceMatrix.origin.isin(c_alunos)]"
   ]
  },
  {
   "cell_type": "code",
   "execution_count": 4,
   "metadata": {},
   "outputs": [],
   "source": [
    "dist_max = 17\n",
    "Matriz_reduzida=distanceMatrix_sres[distanceMatrix_sres.real_distance <= dist_max]\n",
    "# Matriz_reduzida = distanceMatrix_sres[(distanceMatrix_sres.Freg_origin.isin(['142105','142114']))& \n",
    "#                     (distanceMatrix_sres.Freg_destino.isin(['142105','142114']))]\n",
    "# Matriz_reduzida = distanceMatrix_sres[(distanceMatrix_sres.Freg_origin=='142106') & (distanceMatrix_sres.Freg_destino=='142106')]"
   ]
  },
  {
   "cell_type": "code",
   "execution_count": 5,
   "metadata": {},
   "outputs": [],
   "source": [
    "# capacidades = {21: (914650, 52752), 40: (1003910, 38540), 80: (1191826, 27500), \n",
    "#                140: (1473700, 20940), 210: (1802553,17190), 300: (2225364, 14450)}\n",
    "capacidades = {21: (914650, 52752), 55: (1074379, 33010), 120: (1379742, 22570), \n",
    "               200: (1755574,17600), 300: (2225364, 14450)}"
   ]
  },
  {
   "cell_type": "code",
   "execution_count": 6,
   "metadata": {},
   "outputs": [],
   "source": [
    "l = list(zip(Matriz_reduzida.origin, Matriz_reduzida.to, Matriz_reduzida.real_distance))\n",
    "d_dist = {}\n",
    "for (i,j,k) in l:\n",
    "    d_dist[i,j] = k"
   ]
  },
  {
   "cell_type": "code",
   "execution_count": 7,
   "metadata": {},
   "outputs": [
    {
     "data": {
      "text/plain": [
       "1_CEB_Proj_2020    1345.02368\n",
       "dtype: float64"
      ]
     },
     "execution_count": 7,
     "metadata": {},
     "output_type": "execute_result"
    }
   ],
   "source": [
    "alunos_por_subs  = pd.DataFrame(index=Matriz_reduzida.to.unique())\n",
    "alunos_por_subs = alunos_por_subs.join(df_alunos_subseccao['1_CEB_Proj_2020'])\n",
    "alunos_por_subs['1_CEB_Proj_2020'] = alunos_por_subs['1_CEB_Proj_2020'].fillna(0)\n",
    "tuple_alunos_por_subs = dict(zip(alunos_por_subs.index, alunos_por_subs['1_CEB_Proj_2020']))\n",
    "localizacoes = Matriz_reduzida.to.unique()\n",
    "alunos_por_subs.sum()"
   ]
  },
  {
   "cell_type": "code",
   "execution_count": 8,
   "metadata": {},
   "outputs": [],
   "source": [
    "lista = list(zip(Matriz_reduzida.origin, Matriz_reduzida.to, Matriz_reduzida.custo))\n",
    "d_custos_dist = {}\n",
    "for i, k, l  in lista: \n",
    "    d_custos_dist[i,k] = l"
   ]
  },
  {
   "cell_type": "code",
   "execution_count": 9,
   "metadata": {},
   "outputs": [],
   "source": [
    "d_custos_instal={}\n",
    "for i in localizacoes:\n",
    "    for j in capacidades: \n",
    "        d_custos_instal [i, j] =  capacidades[j]\n",
    "# d_custos_instal"
   ]
  },
  {
   "cell_type": "code",
   "execution_count": 10,
   "metadata": {},
   "outputs": [],
   "source": [
    "l_orig_dest_capacid = []\n",
    "l_tuplas  = list(zip(Matriz_reduzida.origin, Matriz_reduzida.to))\n",
    "\n",
    "for i,j in l_tuplas:\n",
    "    for k in capacidades:\n",
    "        l_orig_dest_capacid.append((i,j,k))"
   ]
  },
  {
   "cell_type": "code",
   "execution_count": 11,
   "metadata": {},
   "outputs": [
    {
     "name": "stdout",
     "output_type": "stream",
     "text": [
      "Using license file C:\\Users\\jan\\gurobi.lic\n",
      "Academic license - for non-commercial use only\n",
      "Discarded solution information\n"
     ]
    }
   ],
   "source": [
    "m = Model('escolas')\n",
    "m.reset()\n",
    "#variável de decisão do número de alunos alocados de cada i a cada j, para cada tipo de capacidade\n",
    "x = {}\n",
    "x = m.addVars(l_orig_dest_capacid, lb=0.0, ub=28.0, vtype='C')\n",
    "\n",
    "#variável de decisão abertura de escola \n",
    "y = {}\n",
    "for j in localizacoes:\n",
    "    for k in capacidades:\n",
    "        y[(j,k)] = m.addVar(lb=0, vtype='B', name=f'escola_em_{j}_com_k={k}')"
   ]
  },
  {
   "cell_type": "code",
   "execution_count": 12,
   "metadata": {},
   "outputs": [
    {
     "name": "stdout",
     "output_type": "stream",
     "text": [
      "Changed value of parameter TimeLimit to 90000.0\n",
      "   Prev: inf  Min: 0.0  Max: inf  Default: inf\n",
      "Changed value of parameter Method to 3\n",
      "   Prev: -1  Min: -1  Max: 5  Default: -1\n"
     ]
    }
   ],
   "source": [
    "#restrição que garante que todos os alunos são alocados\n",
    "for i in tuple_alunos_por_subs:    \n",
    "    m.addConstr(quicksum(x[i,j,k] for j in Matriz_reduzida.to[Matriz_reduzida.origin==i] for k in capacidades) == tuple_alunos_por_subs[i], f'alunos_alocados_{i}_{j}_{k}')\n",
    "\n",
    "#restrição que garante que a alocação é feita para escolas abertas\n",
    "for (i,j,k) in x:\n",
    "    m.addConstr(x[i,j,k] <= tuple_alunos_por_subs[i]*y[j,k], f'alocacao_escolas_abertas_{i}_{j}_{k}')\n",
    "    \n",
    "#restrição que garante que a alocação respeita as capacidade das escolas\n",
    "for j, k in y:\n",
    "    m.addConstr(quicksum(x[i,j,k] for i in Matriz_reduzida.origin[Matriz_reduzida.to==j]) <= [j, k][1], f'capacidade_{k}_escola_{j}')\n",
    "\n",
    "#restrição que garante que somente uma escola de cada dimensão é construída em cada local\n",
    "for i in localizacoes:\n",
    "    m.addConstr(quicksum(y[(i,c)] for c in capacidades) <= 1)\n",
    "\n",
    "#restrição que garante que as escolas localizadas não possam ter menos de 20% de alunos do que a sua capacidade\n",
    "for j, k in y:\n",
    "    m.addConstr((quicksum(x[i,j,k] for i in Matriz_reduzida.origin[Matriz_reduzida.to==j]) - [j,k][1]*y[j,k]) >= [j,k][1]*y[j,k]*-0.20, f'restr_alocados_{j}')\n",
    "\n",
    "#restrição que garante que nenhuma escola tem menos do que 21 alunos\n",
    "for j, k in y:\n",
    "    m.addConstr(quicksum(x[i,j,k] for i in Matriz_reduzida.origin[Matriz_reduzida.to==j]) >= 21*y[j,k], f'minimo_alocados_{j}')\n",
    "\n",
    "m.setObjective(quicksum(x[i,j,k]*d_custos_dist[i,j]+x[i,j,k]*capacidades[k][1] for i,j,k in x) + quicksum(y[j]*d_custos_instal[j][0] for j in y), GRB.MINIMIZE)\n",
    "m.setParam('TimeLimit', 1500*60)\n",
    "m.setParam(GRB.Param.Method, 3)\n",
    "m.update()"
   ]
  },
  {
   "cell_type": "code",
   "execution_count": 13,
   "metadata": {},
   "outputs": [
    {
     "name": "stdout",
     "output_type": "stream",
     "text": [
      "Gurobi Optimizer version 9.0.0 build v9.0.0rc2 (win64)\n",
      "Optimize a model with 3001983 rows, 2990895 columns and 17931510 nonzeros\n",
      "Model fingerprint: 0x6539550d\n",
      "Variable types: 2986275 continuous, 4620 integer (4620 binary)\n",
      "Coefficient statistics:\n",
      "  Matrix range     [5e-01, 2e+02]\n",
      "  Objective range  [1e+04, 2e+06]\n",
      "  Bounds range     [1e+00, 3e+01]\n",
      "  RHS range        [5e-01, 3e+02]\n",
      "Presolve removed 4018 rows and 3960 columns (presolve time = 9s) ...\n",
      "Presolve removed 4018 rows and 3960 columns (presolve time = 12s) ...\n",
      "Presolve removed 5650 rows and 3960 columns (presolve time = 15s) ...\n",
      "Presolve removed 5650 rows and 3960 columns (presolve time = 20s) ...\n",
      "Presolve removed 5650 rows and 3960 columns (presolve time = 25s) ...\n",
      "Presolve removed 5650 rows and 3960 columns (presolve time = 30s) ...\n",
      "Presolve removed 6475 rows and 3960 columns (presolve time = 37s) ...\n",
      "Presolve removed 6475 rows and 3960 columns (presolve time = 42s) ...\n",
      "Presolve removed 7300 rows and 3960 columns (presolve time = 45s) ...\n",
      "Presolve removed 7300 rows and 3960 columns (presolve time = 52s) ...\n",
      "Presolve removed 7300 rows and 3960 columns (presolve time = 55s) ...\n",
      "Presolve removed 11054 rows and 3960 columns (presolve time = 60s) ...\n",
      "Presolve removed 11054 rows and 4059 columns (presolve time = 70s) ...\n",
      "Presolve removed 11252 rows and 4059 columns (presolve time = 76s) ...\n",
      "Presolve removed 7498 rows and 305 columns\n",
      "Presolve time: 76.42s\n",
      "Presolved: 2994485 rows, 2990590 columns, 11956619 nonzeros\n",
      "Variable types: 2985987 continuous, 4603 integer (4603 binary)\n",
      "\n",
      "Concurrent LP optimizer: dual simplex and barrier\n",
      "Showing barrier log only...\n",
      "\n",
      "Root barrier log...\n",
      "\n",
      "Elapsed ordering time = 5s\n",
      "Ordering time: 7.02s\n",
      "\n",
      "Barrier statistics:\n",
      " Dense cols : 4175\n",
      " AA' NZ     : 3.342e+07\n",
      " Factor NZ  : 1.044e+08 (roughly 3.0 GBytes of memory)\n",
      " Factor Ops : 2.400e+11 (roughly 5 seconds per iteration)\n",
      " Threads    : 2\n",
      "\n",
      "                  Objective                Residual\n",
      "Iter       Primal          Dual         Primal    Dual     Compl     Time\n",
      "   0   6.92960313e+12 -2.06949575e+11  5.57e+04 8.49e+05  1.43e+07   153s\n",
      "   1   6.11774640e+12 -1.79724886e+11  4.93e+04 9.43e+05  1.18e+07   163s\n",
      "   2   5.19787541e+12 -4.29509499e+11  4.20e+04 5.82e+05  9.68e+06   175s\n",
      "   3   9.22033521e+11 -6.49638000e+11  7.49e+03 7.51e-09  1.80e+06   189s\n",
      "   4   6.51670958e+11 -3.44225228e+11  5.29e+03 1.50e-08  1.24e+06   201s\n",
      "   5   3.33723719e+11 -1.85863774e+11  2.71e+03 2.84e-08  6.38e+05   218s\n",
      "   6   1.66492278e+11 -6.02761587e+10  1.35e+03 3.75e-08  3.19e+05   236s\n",
      "   7   5.95420915e+09 -2.20518150e+10  4.60e+01 5.07e-08  1.33e+04   253s\n",
      "   8   1.30818079e+09 -1.43711087e+10  8.46e+00 3.17e-08  3.49e+03   270s\n",
      "   9   5.21498463e+08 -8.41982598e+09  2.15e+00 5.79e-08  1.36e+03   286s\n",
      "  10   3.35265675e+08 -4.18798302e+09  7.04e-01 2.62e-08  5.85e+02   300s\n",
      "  11   2.37736761e+08 -1.41676939e+09  6.91e-02 9.75e-09  1.88e+02   312s\n",
      "  12   2.01577059e+08 -5.09321497e+08  1.26e-02 3.89e-09  7.95e+01   323s\n",
      "  13   1.87490010e+08 -3.50362861e+08  8.69e-03 2.89e-09  6.01e+01   333s\n",
      "  14   1.68718481e+08 -2.35994338e+08  5.14e-03 2.33e-09  4.52e+01   342s\n",
      "  15   1.39763489e+08 -1.54597236e+08  1.76e-03 1.77e-09  3.28e+01   352s\n",
      "  16   1.25502895e+08 -5.73141700e+07  1.11e-03 1.09e-09  2.04e+01   364s\n",
      "  17   1.08724025e+08 -2.72732343e+07  5.65e-04 8.31e-10  1.52e+01   378s\n",
      "  18   9.53460714e+07 -1.30248034e+06  2.74e-04 7.80e-10  1.08e+01   393s\n",
      "  19   8.73831189e+07  1.48898199e+07  1.64e-04 7.99e-10  8.08e+00   411s\n",
      "  20   8.15321258e+07  2.89419834e+07  1.05e-04 8.95e-10  5.86e+00   426s\n",
      "  21   7.99686076e+07  3.09104337e+07  9.32e-05 1.05e-09  5.47e+00   437s\n",
      "  22   7.65341603e+07  3.73337518e+07  6.99e-05 8.15e-10  4.37e+00   451s\n",
      "  23   7.35553477e+07  4.17466578e+07  5.30e-05 9.17e-10  3.55e+00   465s\n",
      "  24   7.16978255e+07  4.46227710e+07  4.41e-05 9.42e-10  3.02e+00   479s\n",
      "  25   7.04713935e+07  4.65413960e+07  3.87e-05 7.70e-10  2.67e+00   493s\n",
      "  26   6.87192308e+07  4.80699496e+07  3.18e-05 1.03e-09  2.30e+00   506s\n",
      "  27   6.82623952e+07  4.91266895e+07  3.00e-05 7.98e-10  2.13e+00   519s\n",
      "  28   6.71051181e+07  5.03817103e+07  2.63e-05 1.05e-09  1.87e+00   533s\n",
      "  29   6.67715354e+07  5.07837695e+07  2.52e-05 9.06e-10  1.78e+00   544s\n",
      "  30   6.58265213e+07  5.13777060e+07  2.22e-05 1.00e-09  1.61e+00   556s\n",
      "  31   6.47108836e+07  5.20851682e+07  1.89e-05 9.72e-10  1.41e+00   570s\n",
      "  32   6.37545271e+07  5.26024532e+07  1.64e-05 7.86e-10  1.24e+00   584s\n",
      "  33   6.31962270e+07  5.30941862e+07  1.50e-05 1.15e-09  1.13e+00   598s\n",
      "  34   6.25021132e+07  5.33035023e+07  1.34e-05 1.13e-09  1.03e+00   611s\n",
      "  35   6.21752742e+07  5.36216581e+07  1.27e-05 1.36e-09  9.54e-01   625s\n",
      "  36   6.14965313e+07  5.37518962e+07  1.12e-05 8.89e-10  8.64e-01   637s\n",
      "  37   6.08152379e+07  5.38727961e+07  9.75e-06 1.12e-09  7.74e-01   652s\n",
      "  38   6.03816131e+07  5.40781348e+07  8.89e-06 1.15e-09  7.03e-01   665s\n",
      "  39   6.02339625e+07  5.41276887e+07  8.59e-06 1.01e-09  6.81e-01   678s\n",
      "  40   5.99584502e+07  5.42643537e+07  8.09e-06 1.33e-09  6.35e-01   692s\n",
      "  41   5.98212643e+07  5.43046741e+07  7.83e-06 1.17e-09  6.15e-01   704s\n",
      "  42   5.93802090e+07  5.43726522e+07  7.05e-06 1.13e-09  5.58e-01   718s\n",
      "  43   5.92334672e+07  5.44054109e+07  6.77e-06 1.16e-09  5.38e-01   729s\n",
      "  44   5.88980794e+07  5.45008342e+07  6.14e-06 1.18e-09  4.90e-01   743s\n",
      "  45   5.85776768e+07  5.45498838e+07  5.57e-06 1.15e-09  4.49e-01   757s\n",
      "  46   5.84133059e+07  5.46031626e+07  5.30e-06 1.32e-09  4.25e-01   771s\n",
      "  47   5.82405150e+07  5.46408905e+07  5.02e-06 1.07e-09  4.01e-01   785s\n",
      "  48   5.81864315e+07  5.46771816e+07  4.92e-06 1.16e-09  3.91e-01   797s\n",
      "  49   5.79667352e+07  5.47257066e+07  4.57e-06 1.09e-09  3.61e-01   811s\n",
      "  50   5.78316097e+07  5.47686073e+07  4.34e-06 1.12e-09  3.42e-01   825s\n",
      "  51   5.76888928e+07  5.47946540e+07  4.12e-06 1.30e-09  3.23e-01   839s\n",
      "  52   5.76486735e+07  5.48065934e+07  4.05e-06 1.20e-09  3.17e-01   850s\n",
      "  53   5.74381616e+07  5.48332996e+07  3.72e-06 1.16e-09  2.90e-01   862s\n",
      "  54   5.72680230e+07  5.48461849e+07  3.45e-06 1.19e-09  2.70e-01   876s\n",
      "  55   5.70949082e+07  5.48903886e+07  3.19e-06 9.55e-10  2.46e-01   890s\n",
      "  56   5.68130916e+07  5.49057714e+07  2.76e-06 1.15e-09  2.13e-01   904s\n",
      "  57   5.66060055e+07  5.49240319e+07  2.43e-06 1.25e-09  1.88e-01   918s\n",
      "  58   5.64348912e+07  5.49433541e+07  2.17e-06 1.22e-09  1.66e-01   932s\n",
      "  59   5.62911414e+07  5.49667120e+07  1.95e-06 9.58e-10  1.48e-01   947s\n",
      "  60   5.61834808e+07  5.49760817e+07  1.78e-06 1.18e-09  1.35e-01   961s\n",
      "  61   5.61194927e+07  5.49813461e+07  1.68e-06 1.23e-09  1.27e-01   974s\n",
      "  62   5.59351143e+07  5.50030911e+07  1.39e-06 8.37e-10  1.04e-01   988s\n",
      "  63   5.58494838e+07  5.50141239e+07  1.25e-06 8.59e-10  9.32e-02  1002s\n",
      "  64   5.57398177e+07  5.50175173e+07  1.07e-06 9.19e-10  8.06e-02  1013s\n",
      "  65   5.56951886e+07  5.50245104e+07  1.01e-06 9.20e-10  7.48e-02  1027s\n",
      "  66   5.56373428e+07  5.50670779e+07  9.18e-07 9.00e-10  6.36e-02  1039s\n",
      "  67   5.55938602e+07  5.50702492e+07  8.49e-07 9.57e-10  5.84e-02  1053s\n",
      "\n",
      "Barrier performed 67 iterations in 1058.61 seconds\n",
      "Barrier solve interrupted - model solved by another algorithm\n",
      "\n",
      "\n",
      "Solved with dual simplex\n",
      "\n",
      "Root relaxation: objective 5.508594e+07, 280794 iterations, 947.12 seconds\n",
      "Total elapsed time = 1063.77s\n",
      "\n",
      "    Nodes    |    Current Node    |     Objective Bounds      |     Work\n",
      " Expl Unexpl |  Obj  Depth IntInf | Incumbent    BestBd   Gap | It/Node Time\n",
      "\n",
      "     0     0 5.5086e+07    0   12          - 5.5086e+07      -     - 1069s\n",
      "H    0     0                    5.513165e+07 5.5086e+07  0.08%     - 1125s\n",
      "     0     0 5.5114e+07    0    8 5.5132e+07 5.5114e+07  0.03%     - 1211s\n",
      "     0     0 5.5114e+07    0   12 5.5132e+07 5.5114e+07  0.03%     - 1270s\n",
      "     0     0 5.5115e+07    0    4 5.5132e+07 5.5115e+07  0.03%     - 1273s\n",
      "     0     0 5.5115e+07    0   12 5.5132e+07 5.5115e+07  0.03%     - 1274s\n",
      "     0     0 5.5115e+07    0    4 5.5132e+07 5.5115e+07  0.03%     - 1275s\n",
      "H    0     0                    5.512593e+07 5.5115e+07  0.02%     - 1275s\n",
      "     0     0 5.5126e+07    0    2 5.5126e+07 5.5126e+07  0.00%     - 1275s\n",
      "\n",
      "Cutting planes:\n",
      "  Implied bound: 5\n",
      "  MIR: 11\n",
      "  Flow cover: 1\n",
      "\n",
      "Explored 1 nodes (322933 simplex iterations) in 1281.30 seconds\n"
     ]
    },
    {
     "name": "stdout",
     "output_type": "stream",
     "text": [
      "Thread count was 4 (of 4 available processors)\n",
      "\n",
      "Solution count 2: 5.51259e+07 5.51317e+07 \n",
      "\n",
      "Optimal solution found (tolerance 1.00e-04)\n",
      "Best objective 5.512592882969e+07, best bound 5.512572498722e+07, gap 0.0004%\n"
     ]
    }
   ],
   "source": [
    "m.optimize()"
   ]
  },
  {
   "cell_type": "code",
   "execution_count": 14,
   "metadata": {},
   "outputs": [
    {
     "name": "stdout",
     "output_type": "stream",
     "text": [
      "escola ('14210500217', 55):  43.99999999999999\n",
      "escola ('14211400411', 120):  96.00000000000001\n",
      "escola ('14211300317', 120):  97.6220755673987\n",
      "escola ('14210900101', 120):  104.32412017760056\n",
      "escola ('14211100703', 200):  166.25742136694254\n",
      "escola ('14211501005', 300):  299.99999999999994\n",
      "escola ('14211200301', 120):  96.06922127603855\n",
      "escola ('14211800220', 55):  44.0\n",
      "escola ('14210600804', 300):  300.0\n",
      "escola ('14210601605', 120):  96.75084161201896\n"
     ]
    },
    {
     "data": {
      "text/plain": [
       "1345.0236800000014"
      ]
     },
     "execution_count": 14,
     "metadata": {},
     "output_type": "execute_result"
    }
   ],
   "source": [
    "d_escolas_localizadas = {}\n",
    "for j, l in y:\n",
    "    if y[j,l].X > 0e-4:\n",
    "        print(f'escola {j, l}: ', sum (x[i,j,l].X for i in Matriz_reduzida.origin[Matriz_reduzida.to==j]))\n",
    "        d_escolas_localizadas [j] = l, sum (x[i,j,l].X for i in Matriz_reduzida.origin[Matriz_reduzida.to==j])\n",
    "\n",
    "d={}\n",
    "for i in x: \n",
    "    if x[i].X > 0.001:\n",
    "        d[i]= x[i].X\n",
    "sum(d.values())"
   ]
  },
  {
   "cell_type": "code",
   "execution_count": 15,
   "metadata": {},
   "outputs": [
    {
     "data": {
      "text/plain": [
       "2.4447259853531906"
      ]
     },
     "execution_count": 15,
     "metadata": {},
     "output_type": "execute_result"
    }
   ],
   "source": [
    "alunos_alocados = {}\n",
    "for (i,j,k) in d:\n",
    "    if x[(i,j,k)].X > 0.001:\n",
    "        alunos_alocados [i,j] = i, j, d[i,j,k], d_dist[i,j]\n",
    "    \n",
    "df_alunos_alocados = pd.DataFrame.from_dict(alunos_alocados, orient='index', columns=[ 'SubSection', 'School', 'alunos_aloc', 'distancia',])\n",
    "# df_alunos_alocados.sum(axis=0)\n",
    "df_alunos_alocados['prod_dist_alun'] = df_alunos_alocados.alunos_aloc*df_alunos_alocados.distancia\n",
    "df_alunos_alocados.prod_dist_alun.sum()/df_alunos_alocados.alunos_aloc.sum()"
   ]
  },
  {
   "cell_type": "code",
   "execution_count": 16,
   "metadata": {
    "scrolled": true
   },
   "outputs": [],
   "source": [
    "# df_alunos_alocados_c_perc[df_alunos_alocados_c_perc.distancia<=1500].sum()"
   ]
  },
  {
   "cell_type": "code",
   "execution_count": 17,
   "metadata": {},
   "outputs": [],
   "source": [
    "def Adicionar_percenatens (df_gini):\n",
    "    df_gini = df_gini.sort_values(by= 'distancia')\n",
    "    df_gini['percent_dist'] =  df_gini.prod_dist_alun / df_gini.prod_dist_alun.sum()\n",
    "    df_gini['percent_alunos'] =  df_gini.alunos_aloc / df_gini.alunos_aloc.sum()\n",
    "    df_gini['Dist_cumsum'] = df_gini.prod_dist_alun.cumsum()/df_gini.prod_dist_alun.sum()\n",
    "    df_gini['Alunos_cumsum'] = df_gini.alunos_aloc.cumsum()/df_gini.alunos_aloc.sum()\n",
    "    return(df_gini)\n",
    "df_alunos_alocados_c_perc = Adicionar_percenatens(df_alunos_alocados)"
   ]
  },
  {
   "cell_type": "code",
   "execution_count": 18,
   "metadata": {},
   "outputs": [],
   "source": [
    "df_alunos_alocados_c_perc.to_csv('alunos_alocados_2020_DISTANCIA_QUADRADO.csv')"
   ]
  },
  {
   "cell_type": "code",
   "execution_count": null,
   "metadata": {},
   "outputs": [],
   "source": []
  }
 ],
 "metadata": {
  "kernelspec": {
   "display_name": "Python 3",
   "language": "python",
   "name": "python3"
  },
  "language_info": {
   "codemirror_mode": {
    "name": "ipython",
    "version": 3
   },
   "file_extension": ".py",
   "mimetype": "text/x-python",
   "name": "python",
   "nbconvert_exporter": "python",
   "pygments_lexer": "ipython3",
   "version": "3.7.5"
  }
 },
 "nbformat": 4,
 "nbformat_minor": 4
}
